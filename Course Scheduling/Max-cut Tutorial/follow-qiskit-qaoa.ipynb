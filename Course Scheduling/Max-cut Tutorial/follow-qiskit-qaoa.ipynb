{
 "cells": [
  {
   "cell_type": "markdown",
   "metadata": {},
   "source": [
    "## QAOA for MAXCUT\n",
    "\n",
    "Here we follow an altered tutorial for maxcut below:\n",
    "https://qiskit.org/textbook/ch-applications/qaoa.html\n",
    "Then we will try to test how the parameters passed in to qaoa affect the energy of a graph\n",
    "--energy defined as the cost function evaluated in qaoa for p=1"
   ]
  },
  {
   "cell_type": "code",
   "execution_count": 54,
   "metadata": {},
   "outputs": [],
   "source": [
    "#modified from https://github.com/Chriz91/qaoa-max-cut\n",
    "import warnings\n",
    "warnings.filterwarnings('ignore')\n",
    "import matplotlib.pyplot as plt\n",
    "import numpy as np\n",
    "import nlopt\n",
    "import networkx as nx\n",
    "import qiskit\n",
    "from qiskit import BasicAer\n",
    "from qiskit.optimization.ising import max_cut\n",
    "from qiskit.aqua import QuantumInstance\n",
    "from qiskit.aqua.components.optimizers.nlopts.esch import ESCH\n",
    "from qiskit.aqua.algorithms import QAOA\n",
    "from qiskit.quantum_info import Pauli\n",
    "from qiskit.aqua.operators.weighted_pauli_operator import WeightedPauliOperator\n",
    "import pandas as pd"
   ]
  },
  {
   "cell_type": "code",
   "execution_count": 12,
   "metadata": {},
   "outputs": [
    {
     "data": {
      "text/plain": [
       "{'qiskit-terra': '0.12.0',\n",
       " 'qiskit-aer': '0.4.1',\n",
       " 'qiskit-ignis': '0.2.0',\n",
       " 'qiskit-ibmq-provider': '0.5.0',\n",
       " 'qiskit-aqua': '0.6.4',\n",
       " 'qiskit': '0.16.1'}"
      ]
     },
     "execution_count": 12,
     "metadata": {},
     "output_type": "execute_result"
    }
   ],
   "source": [
    "qiskit.__qiskit_version__"
   ]
  },
  {
   "cell_type": "code",
   "execution_count": 13,
   "metadata": {},
   "outputs": [
    {
     "name": "stderr",
     "output_type": "stream",
     "text": [
      "/Users/victorli/anaconda3/lib/python3.7/site-packages/networkx/drawing/nx_pylab.py:579: MatplotlibDeprecationWarning: \n",
      "The iterable function was deprecated in Matplotlib 3.1 and will be removed in 3.3. Use np.iterable instead.\n",
      "  if not cb.iterable(width):\n"
     ]
    },
    {
     "data": {
      "image/png": "[encoded data removed]",
      "text/plain": [
       "<Figure size 432x288 with 1 Axes>"
      ]
     },
     "metadata": {},
     "output_type": "display_data"
    }
   ],
   "source": [
    "n = 6  # Number of nodes in graph\n",
    "G = nx.Graph()\n",
    "G.add_nodes_from(np.arange(0, n, 1))\n",
    "elist = [(0, 1, 1.0), (0, 2, 1.0), (0, 3, 1.0), (0, 4, 1.0), (1, 2, 1.0), (1, 5, 1.0), (4, 5, 1.0), (2, 3, 1.0)]\n",
    "G.add_weighted_edges_from(elist)\n",
    "\n",
    "colors = ['r' for node in G.nodes()]\n",
    "pos = nx.spring_layout(G)\n",
    "default_axes = plt.axes(frameon=True)\n",
    "nx.draw_networkx(G, node_color=colors, node_size=600, alpha=.8, ax=default_axes, pos=pos)\n",
    "plt.show()"
   ]
  },
  {
   "cell_type": "code",
   "execution_count": 14,
   "metadata": {},
   "outputs": [
    {
     "name": "stdout",
     "output_type": "stream",
     "text": [
      "weight matrix\n",
      "[[0. 1. 1. 1. 1. 0.]\n",
      " [1. 0. 1. 0. 0. 1.]\n",
      " [1. 1. 0. 1. 0. 0.]\n",
      " [1. 0. 1. 0. 0. 0.]\n",
      " [1. 0. 0. 0. 0. 1.]\n",
      " [0. 1. 0. 0. 1. 0.]]\n"
     ]
    }
   ],
   "source": [
    "w = np.zeros([n, n])\n",
    "for i in range(n):\n",
    "    for j in range(n):\n",
    "        temp = G.get_edge_data(i, j, default=0)\n",
    "        if temp != 0:\n",
    "            w[i, j] = temp['weight']\n",
    "\n",
    "print(\"weight matrix\")\n",
    "print(w)"
   ]
  },
  {
   "cell_type": "code",
   "execution_count": 15,
   "metadata": {},
   "outputs": [
    {
     "name": "stdout",
     "output_type": "stream",
     "text": [
      "\n",
      "Best solution = [0, 1, 0, 1, 1, 0] cost = 7.0\n"
     ]
    }
   ],
   "source": [
    "best_cost_brute = 0\n",
    "for b in range(2**n):\n",
    "    x = [int(t) for t in reversed(list(bin(b)[2:].zfill(n)))]\n",
    "    cost = 0\n",
    "    for i in range(n):\n",
    "        for j in range(n):\n",
    "            cost = cost + w[i, j]*x[i]*(1-x[j])\n",
    "    if best_cost_brute < cost:\n",
    "        best_cost_brute = cost\n",
    "        xbest_brute = x\n",
    "    #print('case = ' + str(x) + ' cost = ' + str(cost))\n",
    "\n",
    "print('\\nBest solution = ' + str(xbest_brute) + ' cost = ' + str(best_cost_brute))\n",
    "\n",
    "#NOTE THAT [1,0,1,0,0,1] IS AN EQUIVALENTLY GOOD PARTITION, so we hope to evolve into the subspace\n",
    "#spanned by 101001 and 010110"
   ]
  },
  {
   "cell_type": "code",
   "execution_count": 28,
   "metadata": {},
   "outputs": [],
   "source": [
    "#Converts adjacency matrix into a list of Pauli z operators (idk what the x part does)\n",
    "#xp is here to make sure there is no complex component in pauli generated and that it is strictly z\n",
    "num_nodes = w.shape[0]\n",
    "pauli_list = []\n",
    "for i in range(num_nodes):\n",
    "    for j in range(i):\n",
    "        if w[i, j] != 0:\n",
    "            xp = np.zeros(num_nodes, dtype=np.bool)\n",
    "            zp = np.zeros(num_nodes, dtype=np.bool)\n",
    "            zp[i] = True\n",
    "            zp[j] = True\n",
    "            pauli_list.append([0.5 * w[i, j], Pauli(zp, xp)])\n",
    "qubitOp = WeightedPauliOperator(paulis=pauli_list)\n",
    "#print(qubitOp.paulis)"
   ]
  },
  {
   "cell_type": "code",
   "execution_count": 46,
   "metadata": {},
   "outputs": [
    {
     "name": "stdout",
     "output_type": "stream",
     "text": [
      "{'num_optimizer_evals': 100, 'min_val': -0.966796875, 'opt_params': array([1.91748357, 0.41713172, 1.66758152, 0.01450238, 0.16736141,\n",
      "       0.01172316, 2.11574651, 0.16446149, 1.14544705, 3.57374789,\n",
      "       0.31270954, 2.87762134, 0.36740155, 1.72085939, 3.64222932,\n",
      "       0.20051554, 0.35610368, 0.1646642 ]), 'eval_time': 7.944586992263794, 'eval_count': 100, 'energy': -0.966796875, 'eigvals': array([-0.96679688]), 'min_vector': {'010101': 14, '101011': 10, '011011': 1, '010010': 4, '000101': 1, '011100': 49, '101101': 6, '111101': 8, '011101': 6, '011001': 2, '101110': 3, '001011': 2, '010011': 17, '101001': 2, '001100': 13, '111011': 13, '111111': 1, '111100': 10, '000011': 13, '011010': 57, '000010': 3, '110100': 1, '001111': 10, '100110': 1, '111001': 1, '100001': 12, '100011': 56, '101100': 21, '101010': 24, '010110': 5, '010100': 17, '101000': 1, '100000': 3, '110010': 1, '100100': 2, '100010': 13, '011000': 3, '110101': 4, '110000': 5, '100111': 3, '000100': 8, '111010': 2, '110011': 15, '010111': 1, '001010': 7, '011110': 9, '100101': 52}, 'eigvecs': array([{'010101': 14, '101011': 10, '011011': 1, '010010': 4, '000101': 1, '011100': 49, '101101': 6, '111101': 8, '011101': 6, '011001': 2, '101110': 3, '001011': 2, '010011': 17, '101001': 2, '001100': 13, '111011': 13, '111111': 1, '111100': 10, '000011': 13, '011010': 57, '000010': 3, '110100': 1, '001111': 10, '100110': 1, '111001': 1, '100001': 12, '100011': 56, '101100': 21, '101010': 24, '010110': 5, '010100': 17, '101000': 1, '100000': 3, '110010': 1, '100100': 2, '100010': 13, '011000': 3, '110101': 4, '110000': 5, '100111': 3, '000100': 8, '111010': 2, '110011': 15, '010111': 1, '001010': 7, '011110': 9, '100101': 52}],\n",
      "      dtype=object)}\n",
      "energy: -0.966796875\n",
      "time: 7.944586992263794\n",
      "solution: [0 1 0 1 1 0]\n",
      "optimal parameters [1.91748357 0.41713172 1.66758152 0.01450238 0.16736141 0.01172316\n",
      " 2.11574651 0.16446149 1.14544705 3.57374789 0.31270954 2.87762134\n",
      " 0.36740155 1.72085939 3.64222932 0.20051554 0.35610368 0.1646642 ]\n"
     ]
    },
    {
     "name": "stderr",
     "output_type": "stream",
     "text": [
      "/Users/victorli/anaconda3/lib/python3.7/site-packages/qiskit/optimization/ising/max_cut.py:117: DeprecationWarning: sample_most_likely function has been moved to qiskit.optimization.ising.common, the method here will be removed after Aqua 0.7+\n",
      "  DeprecationWarning)\n"
     ]
    }
   ],
   "source": [
    "#Note from above, our goal is to maximum 1/2 - 1/2*sum(z_i*z_j) but we are equivalently minimizing 1/2*sum(z_i*z_j)\n",
    "#Therefore the true energy is 1/2 - (calculated min energy)\n",
    "\n",
    "n_shots = 512\n",
    "p_steps = 1\n",
    "\n",
    "backend = BasicAer.get_backend('qasm_simulator')\n",
    "quantum_instance = QuantumInstance(backend, shots=n_shots)\n",
    "\n",
    "qaoa = QAOA(qubitOp, ESCH(max_evals=100), p=p_steps+8)\n",
    "result = qaoa.run(quantum_instance)\n",
    "#State-vectors in result are written LSB (0th vertex is last qubit)\n",
    "print(result)\n",
    "\n",
    "solution = max_cut.sample_most_likely(result['eigvecs'][0]) #returns vector with highest counts\n",
    "print('energy:', result['energy'])\n",
    "print('time:', result['eval_time'])\n",
    "#print('solution:', max_cut.get_graph_solution(x)) #inverts string - idk why this is needed\n",
    "print('solution:', solution)\n",
    "print('optimal parameters', result['opt_params'])\n",
    "#9 params are the beta and gamma"
   ]
  },
  {
   "cell_type": "code",
   "execution_count": 48,
   "metadata": {},
   "outputs": [
    {
     "name": "stderr",
     "output_type": "stream",
     "text": [
      "/Users/victorli/anaconda3/lib/python3.7/site-packages/networkx/drawing/nx_pylab.py:579: MatplotlibDeprecationWarning: \n",
      "The iterable function was deprecated in Matplotlib 3.1 and will be removed in 3.3. Use np.iterable instead.\n",
      "  if not cb.iterable(width):\n"
     ]
    },
    {
     "data": {
      "image/png": "[encoded data removed]",
      "text/plain": [
       "<Figure size 432x288 with 1 Axes>"
      ]
     },
     "metadata": {},
     "output_type": "display_data"
    },
    {
     "data": {
      "image/png": "[encoded data removed]",
      "text/plain": [
       "<Figure size 720x360 with 1 Axes>"
      ]
     },
     "metadata": {
      "needs_background": "light"
     },
     "output_type": "display_data"
    }
   ],
   "source": [
    "#min vec 011010, solutio 010110, graph 100101\n",
    "colors = ['r' if solution[i] == 0 else 'b' for i in range(n)]\n",
    "nx.draw_networkx(G, node_color=colors, node_size=600, alpha=.7, pos=pos)\n",
    "plt.show()\n",
    "df = pd.DataFrame.from_dict(result['min_vector'], orient='index') / n_shots\n",
    "df = df.sort_index()\n",
    "barplot = df.plot.bar(legend=False, figsize=(10, 5), fontsize=8)\n",
    "plt.show() #as you can see, the reversed solution 011010 is the most common"
   ]
  },
  {
   "cell_type": "code",
   "execution_count": 56,
   "metadata": {},
   "outputs": [
    {
     "data": {
      "image/png": "[encoded data removed]",
      "text/plain": [
       "<Figure size 432x288 with 1 Axes>"
      ]
     },
     "metadata": {
      "needs_background": "light"
     },
     "output_type": "display_data"
    }
   ],
   "source": [
    "#how do parameters, maximizing states, minimum energy (maximum for the true cost function as explained a couple cells above) \n",
    "n_shots = 512\n",
    "p_steps = 1\n",
    "\n",
    "backend_same_graph = BasicAer.get_backend('qasm_simulator')\n",
    "quantum_instance_same_graph = QuantumInstance(backend_same_graph, shots=n_shots)\n",
    "\n",
    "opt_params_same_graph = []\n",
    "opt_energies_same_graph = []\n",
    "opt_states_same_graph = []\n",
    "for i in range(100):\n",
    "    qaoa_same_graph = QAOA(qubitOp, ESCH(max_evals=80), p=p_steps)\n",
    "    result_same_graph = qaoa_same_graph.run(quantum_instance_same_graph)\n",
    "    opt_params_same_graph.append(result_same_graph['opt_params'])\n",
    "    opt_energies_same_graph.append(result_same_graph['energy'])\n",
    "    opt_states_same_graph.append(max_cut.sample_most_likely(result_same_graph['eigvecs'][0]))\n",
    "\n",
    "param_data_same_graph = np.array(opt_params_same_graph).T\n",
    "plt.scatter(param_data_same_graph[0], param_data_same_graph[1])\n",
    "plt.show()"
   ]
  },
  {
   "cell_type": "code",
   "execution_count": 57,
   "metadata": {},
   "outputs": [
    {
     "data": {
      "text/html": [
       "<div>\n",
       "<style scoped>\n",
       "    .dataframe tbody tr th:only-of-type {\n",
       "        vertical-align: middle;\n",
       "    }\n",
       "\n",
       "    .dataframe tbody tr th {\n",
       "        vertical-align: top;\n",
       "    }\n",
       "\n",
       "    .dataframe thead th {\n",
       "        text-align: right;\n",
       "    }\n",
       "</style>\n",
       "<table border=\"1\" class=\"dataframe\">\n",
       "  <thead>\n",
       "    <tr style=\"text-align: right;\">\n",
       "      <th></th>\n",
       "      <th>Beta</th>\n",
       "      <th>Gamma</th>\n",
       "      <th>State</th>\n",
       "      <th>Energy</th>\n",
       "    </tr>\n",
       "  </thead>\n",
       "  <tbody>\n",
       "    <tr>\n",
       "      <th>0</th>\n",
       "      <td>2.785082</td>\n",
       "      <td>0.733787</td>\n",
       "      <td>[0, 1, 0, 1, 1, 0]</td>\n",
       "      <td>1.816406</td>\n",
       "    </tr>\n",
       "    <tr>\n",
       "      <th>1</th>\n",
       "      <td>1.144202</td>\n",
       "      <td>0.840414</td>\n",
       "      <td>[1, 0, 1, 0, 0, 1]</td>\n",
       "      <td>1.527344</td>\n",
       "    </tr>\n",
       "    <tr>\n",
       "      <th>2</th>\n",
       "      <td>1.252504</td>\n",
       "      <td>0.215405</td>\n",
       "      <td>[1, 0, 1, 0, 0, 1]</td>\n",
       "      <td>1.191406</td>\n",
       "    </tr>\n",
       "    <tr>\n",
       "      <th>3</th>\n",
       "      <td>2.843253</td>\n",
       "      <td>0.763386</td>\n",
       "      <td>[1, 0, 1, 0, 0, 1]</td>\n",
       "      <td>1.796875</td>\n",
       "    </tr>\n",
       "    <tr>\n",
       "      <th>4</th>\n",
       "      <td>2.880661</td>\n",
       "      <td>0.571900</td>\n",
       "      <td>[0, 1, 0, 1, 1, 0]</td>\n",
       "      <td>1.626953</td>\n",
       "    </tr>\n",
       "  </tbody>\n",
       "</table>\n",
       "</div>"
      ],
      "text/plain": [
       "       Beta     Gamma               State    Energy\n",
       "0  2.785082  0.733787  [0, 1, 0, 1, 1, 0]  1.816406\n",
       "1  1.144202  0.840414  [1, 0, 1, 0, 0, 1]  1.527344\n",
       "2  1.252504  0.215405  [1, 0, 1, 0, 0, 1]  1.191406\n",
       "3  2.843253  0.763386  [1, 0, 1, 0, 0, 1]  1.796875\n",
       "4  2.880661  0.571900  [0, 1, 0, 1, 1, 0]  1.626953"
      ]
     },
     "execution_count": 57,
     "metadata": {},
     "output_type": "execute_result"
    }
   ],
   "source": [
    "result_table_same_graph = pd.DataFrame(data = {\"Beta\":param_data_same_graph[0], \"Gamma\":param_data_same_graph[1],\n",
    "                            \"State\":opt_states_same_graph, \"Energy\": .5-np.array(opt_energies_same_graph)})\n",
    "result_table_same_graph.head()"
   ]
  },
  {
   "cell_type": "code",
   "execution_count": 21,
   "metadata": {},
   "outputs": [
    {
     "name": "stderr",
     "output_type": "stream",
     "text": [
      "/Users/victorli/anaconda3/lib/python3.7/site-packages/qiskit/optimization/ising/max_cut.py:117: DeprecationWarning: sample_most_likely function has been moved to qiskit.optimization.ising.common, the method here will be removed after Aqua 0.7+\n",
      "  DeprecationWarning)\n"
     ]
    },
    {
     "name": "stdout",
     "output_type": "stream",
     "text": [
      "energy: -0.3125\n",
      "time: 0.08076000213623047\n",
      "solution: [1 0 1 0 0 1]\n",
      "optimal parameters [2. 5.]\n"
     ]
    },
    {
     "data": {
      "image/png": "[encoded data removed]",
      "text/plain": [
       "<Figure size 1080x360 with 1 Axes>"
      ]
     },
     "metadata": {
      "needs_background": "light"
     },
     "output_type": "display_data"
    }
   ],
   "source": [
    "n_shots = 512\n",
    "p_steps = 1\n",
    "\n",
    "backend = BasicAer.get_backend('qasm_simulator')\n",
    "quantum_instance = QuantumInstance(backend, shots=n_shots)\n",
    "\n",
    "qaoa = QAOA(qubitOp, ESCH(max_evals=1), p=p_steps, initial_point = [2, 5])\n",
    "result = qaoa.run(quantum_instance)\n",
    "#State-vectors in result are written LSB (0th vertex is last qubit)\n",
    "#print(result)\n",
    "\n",
    "solution = max_cut.sample_most_likely(result['eigvecs'][0]) #returns vector with highest counts\n",
    "print('energy:', result['energy'])\n",
    "print('time:', result['eval_time'])\n",
    "#print('solution:', max_cut.get_graph_solution(x)) #inverts string - idk why this is needed\n",
    "print('solution:', solution)\n",
    "print('optimal parameters', result['opt_params'])\n",
    "df = pd.DataFrame.from_dict(result['min_vector'], orient='index') / n_shots\n",
    "df = df.sort_index()\n",
    "barplot = df.plot.bar(legend=False, figsize=(15, 5), fontsize=8)\n",
    "plt.show()"
   ]
  },
  {
   "cell_type": "code",
   "execution_count": null,
   "metadata": {},
   "outputs": [],
   "source": []
  },
  {
   "cell_type": "code",
   "execution_count": null,
   "metadata": {},
   "outputs": [],
   "source": []
  }
 ],
 "metadata": {
  "kernelspec": {
   "display_name": "Python 3",
   "language": "python",
   "name": "python3"
  },
  "language_info": {
   "codemirror_mode": {
    "name": "ipython",
    "version": 3
   },
   "file_extension": ".py",
   "mimetype": "text/x-python",
   "name": "python",
   "nbconvert_exporter": "python",
   "pygments_lexer": "ipython3",
   "version": "3.7.3"
  }
 },
 "nbformat": 4,
 "nbformat_minor": 2
}
